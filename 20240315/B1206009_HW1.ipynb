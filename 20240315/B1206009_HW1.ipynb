{
  "nbformat": 4,
  "nbformat_minor": 0,
  "metadata": {
    "colab": {
      "provenance": []
    },
    "kernelspec": {
      "name": "python3",
      "display_name": "Python 3"
    },
    "language_info": {
      "name": "python"
    }
  },
  "cells": [
    {
      "cell_type": "code",
      "execution_count": 1,
      "metadata": {
        "colab": {
          "base_uri": "https://localhost:8080/"
        },
        "id": "widbJJmW7b7p",
        "outputId": "dc09d07c-570e-4ca3-ac9e-a95e63f30d13"
      },
      "outputs": [
        {
          "output_type": "stream",
          "name": "stdout",
          "text": [
            "I'm a student\n"
          ]
        }
      ],
      "source": [
        "print(\"I'm a student\")"
      ]
    },
    {
      "cell_type": "code",
      "source": [
        "a = float(input(\"x1=\"))\n",
        "b = float(input(\"y1=\"))\n",
        "c = float(input(\"x2=\"))\n",
        "d = float(input(\"y2=\"))\n",
        "e = (a-c)**2\n",
        "f = (b-d)**2\n",
        "g = (e+f)**0.5\n",
        "print(\"距離=\",g)"
      ],
      "metadata": {
        "colab": {
          "base_uri": "https://localhost:8080/"
        },
        "id": "eGhd2PYQ8OZP",
        "outputId": "ab40d6ee-f08c-4fc2-df30-79e79078b4cb"
      },
      "execution_count": 3,
      "outputs": [
        {
          "output_type": "stream",
          "name": "stdout",
          "text": [
            "x1=6\n",
            "y1=2\n",
            "x2=1\n",
            "y2=2\n",
            "距離= 5.0\n"
          ]
        }
      ]
    },
    {
      "cell_type": "code",
      "source": [
        "a = float(input(\"身高(cm)\"))\n",
        "b = float(input(\"體重(kg)\"))\n",
        "c = float(a/100)**2\n",
        "d = float(b/c)\n",
        "print(\"BMI=\",d)"
      ],
      "metadata": {
        "colab": {
          "base_uri": "https://localhost:8080/"
        },
        "id": "1i4LY-65Sw7p",
        "outputId": "b7b99bf6-d78b-48b1-dd0d-b22c3a5b4da6"
      },
      "execution_count": 9,
      "outputs": [
        {
          "output_type": "stream",
          "name": "stdout",
          "text": [
            "身高(cm)161\n",
            "體重(kg)50\n",
            "BMI= 19.28937926777516\n"
          ]
        }
      ]
    }
  ]
}