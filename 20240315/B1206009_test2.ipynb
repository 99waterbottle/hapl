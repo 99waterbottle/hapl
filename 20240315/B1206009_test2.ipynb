{
  "nbformat": 4,
  "nbformat_minor": 0,
  "metadata": {
    "colab": {
      "provenance": []
    },
    "kernelspec": {
      "name": "python3",
      "display_name": "Python 3"
    },
    "language_info": {
      "name": "python"
    }
  },
  "cells": [
    {
      "cell_type": "code",
      "execution_count": null,
      "metadata": {
        "colab": {
          "base_uri": "https://localhost:8080/"
        },
        "id": "SFKb7ijo1imy",
        "outputId": "5b872535-a93e-4544-f63d-282eda799a94"
      },
      "outputs": [
        {
          "output_type": "stream",
          "name": "stdout",
          "text": [
            "Ans.is = 495\n"
          ]
        }
      ],
      "source": [
        "x = 2\n",
        "y = 1\n",
        "\n",
        "a=2*x+y\n",
        "b=100-y\n",
        "\n",
        "z=a*b\n",
        "\n",
        "print(\"Ans.is =\", z)\n",
        "\n",
        "\n",
        "\n"
      ]
    },
    {
      "cell_type": "code",
      "source": [
        "y = 4\n",
        "\n",
        "a=2*y+1\n",
        "\n",
        "z=100/a\n",
        "\n",
        "print(\"Ans.is =\", z)"
      ],
      "metadata": {
        "colab": {
          "base_uri": "https://localhost:8080/"
        },
        "id": "KIDPPrC320KR",
        "outputId": "c5acfa49-e909-4a96-f62b-a082941011c0"
      },
      "execution_count": null,
      "outputs": [
        {
          "output_type": "stream",
          "name": "stdout",
          "text": [
            "Ans.is = 11.11111111111111\n"
          ]
        }
      ]
    },
    {
      "cell_type": "code",
      "source": [],
      "metadata": {
        "id": "c14TbgA520LY"
      },
      "execution_count": null,
      "outputs": []
    }
  ]
}