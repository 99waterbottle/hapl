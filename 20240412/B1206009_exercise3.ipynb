{
  "nbformat": 4,
  "nbformat_minor": 0,
  "metadata": {
    "colab": {
      "provenance": []
    },
    "kernelspec": {
      "name": "python3",
      "display_name": "Python 3"
    },
    "language_info": {
      "name": "python"
    }
  },
  "cells": [
    {
      "cell_type": "code",
      "execution_count": null,
      "metadata": {
        "colab": {
          "base_uri": "https://localhost:8080/"
        },
        "id": "3JCV4YqlzZdh",
        "outputId": "d5006b48-f18a-4d9c-9903-bf7fb466513d"
      },
      "outputs": [
        {
          "output_type": "stream",
          "name": "stdout",
          "text": [
            "身高(cm)160\n",
            "體重(kg)50\n",
            "BMI: 19.531249999999996\n",
            "體位:適中\n"
          ]
        }
      ],
      "source": [
        "a = float(input(\"身高(cm)\"))\n",
        "b = float(input(\"體重(kg)\"))\n",
        "c = float(a/100)**2\n",
        "d = float(b/c)\n",
        "print(\"BMI:\",d)\n",
        "\n",
        "if d<18.5:\n",
        "  print('體位:過輕')\n",
        "\n",
        "elif 18.5<=d<24:\n",
        "  print('體位:適中')\n",
        "\n",
        "elif 24<=d<27:\n",
        "  print('體位:過重')\n",
        "\n",
        "else:\n",
        "  print('體位:肥胖')"
      ]
    },
    {
      "cell_type": "code",
      "source": [
        "a = float(input(\"請輸入第一個數字:\"))\n",
        "b = str(input(\"請輸入運算符號:\"))\n",
        "c = float(input(\"請輸入第二個數字:\"))\n",
        "\n",
        "if b == '+' :\n",
        " d = a+c\n",
        " print(d)\n",
        "if b == '-' :\n",
        " d = a-c\n",
        " print(d)\n",
        "if b == '*' :\n",
        " d = a*c\n",
        " print(d)\n",
        "if b == '/' :\n",
        " d = a/c\n",
        " print(d)"
      ],
      "metadata": {
        "colab": {
          "base_uri": "https://localhost:8080/"
        },
        "id": "NP_YQpkQ3wmZ",
        "outputId": "8ce44923-f6d7-4ca9-f3de-eea25cde0ee4"
      },
      "execution_count": null,
      "outputs": [
        {
          "output_type": "stream",
          "name": "stdout",
          "text": [
            "請輸入第一個數字:8\n",
            "請輸入運算符號:*\n",
            "請輸入第二個數字:2\n",
            "16.0\n"
          ]
        }
      ]
    }
  ]
}