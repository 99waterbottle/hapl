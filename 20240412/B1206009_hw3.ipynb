{
  "nbformat": 4,
  "nbformat_minor": 0,
  "metadata": {
    "colab": {
      "provenance": []
    },
    "kernelspec": {
      "name": "python3",
      "display_name": "Python 3"
    },
    "language_info": {
      "name": "python"
    }
  },
  "cells": [
    {
      "cell_type": "code",
      "execution_count": null,
      "metadata": {
        "colab": {
          "base_uri": "https://localhost:8080/"
        },
        "id": "yNkhvna1-jGk",
        "outputId": "8e31654e-c58e-43b9-ed35-a2289322656d"
      },
      "outputs": [
        {
          "output_type": "stream",
          "name": "stdout",
          "text": [
            "請輸入年分1500\n",
            "今年是閏年\n"
          ]
        }
      ],
      "source": [
        "a = float(input('請輸入年分'))\n",
        "\n",
        "if a%4 == 0 and a<=1582:\n",
        "  print('今年是閏年')\n",
        "\n",
        "elif a%4 != 0 and a<=1582:\n",
        "  print('今年是平年')\n",
        "\n",
        "\n",
        "elif a%400 == 0 and a>1582:\n",
        "  print('今年是閏年')\n",
        "\n",
        "\n",
        "elif a%4 != 0 and a>1582:\n",
        "  print('今年是平年')\n",
        "\n",
        "elif a%100 == 0 and a>1582 and a%400 != 0:\n",
        "  print('今年是平年')\n",
        "\n",
        "elif a%4 == 0 and a>1582 and  a%400 != 0 and a%100 != 0:\n",
        "  print('今年是閏年')\n",
        "\n",
        "else:\n",
        "  print('今年是平年')\n",
        "\n",
        "\n",
        "\n",
        "\n"
      ]
    }
  ]
}