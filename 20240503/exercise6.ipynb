{
  "nbformat": 4,
  "nbformat_minor": 0,
  "metadata": {
    "colab": {
      "provenance": []
    },
    "kernelspec": {
      "name": "python3",
      "display_name": "Python 3"
    },
    "language_info": {
      "name": "python"
    }
  },
  "cells": [
    {
      "cell_type": "markdown",
      "source": [],
      "metadata": {
        "id": "MrKDE32pTr-k"
      }
    },
    {
      "cell_type": "markdown",
      "source": [],
      "metadata": {
        "id": "mz3R4X-DTufU"
      }
    },
    {
      "cell_type": "code",
      "execution_count": 106,
      "metadata": {
        "id": "MLzc3IN5_F2k",
        "colab": {
          "base_uri": "https://localhost:8080/"
        },
        "outputId": "e7c4ad7e-49c8-4116-bec5-de6cf8c6c87f"
      },
      "outputs": [
        {
          "output_type": "stream",
          "name": "stdout",
          "text": [
            "身高(cm)160\n",
            "體重(kg)50\n",
            "BMI: 19.531249999999996\n",
            "體位:適中\n"
          ]
        }
      ],
      "source": [
        "try:\n",
        "  a = float(input(\"身高(cm)\"))\n",
        "  b = float(input(\"體重(kg)\"))\n",
        "  c = float(a/100)**2\n",
        "  d = float(b/c)\n",
        "\n",
        "\n",
        "  def caculate(b,c):\n",
        "   d=b/c\n",
        "   return d\n",
        "  print(\"BMI:\",d)\n",
        "\n",
        "  if d<18.5:\n",
        "   print('體位:過輕')\n",
        "\n",
        "  elif 18.5<=d<24:\n",
        "     print('體位:適中')\n",
        "\n",
        "  elif 24<=d<27:\n",
        "    print('體位:過重')\n",
        "\n",
        "  else:\n",
        "    print('體位:肥胖')\n",
        "except:\n",
        "   pass\n",
        "   print(\"輸入錯誤\")\n",
        ""
      ]
    },
    {
      "cell_type": "code",
      "source": [
        "def tree(c):\n",
        " t=n*2+1\n",
        " for  x  in  range ( t ):\n",
        "     if x%2==1:\n",
        "        O=int((t-x)/2)\n",
        "        for y in range(O):\n",
        "            print(\" \",end=\"\")\n",
        "        for k in range(x):\n",
        "            print(\"*\",end=\"\")\n",
        "        print(\" \")\n",
        " for i in range(5):\n",
        "       print(' '*(n-1)+\"*\"*3)\n",
        "j=int(input(\"輸入層數:\"))\n",
        "tree(j)"
      ],
      "metadata": {
        "colab": {
          "base_uri": "https://localhost:8080/"
        },
        "id": "ZOtrKzccDxEE",
        "outputId": "5bb015fa-1400-4c2e-e4a4-359e622efa1c"
      },
      "execution_count": 116,
      "outputs": [
        {
          "output_type": "stream",
          "name": "stdout",
          "text": [
            "輸入層數:16\n",
            "               * \n",
            "              *** \n",
            "             ***** \n",
            "            ******* \n",
            "           ********* \n",
            "          *********** \n",
            "         ************* \n",
            "        *************** \n",
            "       ***************** \n",
            "      ******************* \n",
            "     ********************* \n",
            "    *********************** \n",
            "   ************************* \n",
            "  *************************** \n",
            " ***************************** \n",
            "              ***\n",
            "              ***\n",
            "              ***\n",
            "              ***\n",
            "              ***\n"
          ]
        }
      ]
    },
    {
      "cell_type": "code",
      "source": [
        "\"\""
      ],
      "metadata": {
        "id": "aslNVH10RsBn"
      },
      "execution_count": null,
      "outputs": []
    }
  ]
}