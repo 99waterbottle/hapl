{
  "nbformat": 4,
  "nbformat_minor": 0,
  "metadata": {
    "colab": {
      "provenance": []
    },
    "kernelspec": {
      "name": "python3",
      "display_name": "Python 3"
    },
    "language_info": {
      "name": "python"
    }
  },
  "cells": [
    {
      "cell_type": "code",
      "execution_count": 16,
      "metadata": {
        "colab": {
          "base_uri": "https://localhost:8080/"
        },
        "id": "sTOk60OrvpVs",
        "outputId": "e4b8ae27-6644-4131-c6b2-d198107cf651"
      },
      "outputs": [
        {
          "output_type": "stream",
          "name": "stdout",
          "text": [
            "{'姓名': '賴宏瑋', '性別': '男', '作業分數': [100, '100', '90'], '學號': 'M1129020'}\n",
            "96.66666666666667\n"
          ]
        }
      ],
      "source": [
        "a ={ '姓名': '賴宏瑋', '性別':'男','作業分數':['80','95','100','90']}\n",
        "a['學號'] = 'M1129020'\n",
        "a['作業分數'][1] = 100\n",
        "del a['作業分數'][0]\n",
        "print(a)\n",
        "b=a.get('作業分數')\n",
        "c=int(b[0])\n",
        "d=int(b[1])\n",
        "e=int(b[2])\n",
        "f=(c+d+e)/3\n",
        "print(f)\n"
      ]
    },
    {
      "cell_type": "code",
      "source": [],
      "metadata": {
        "id": "hnFdgGHW2gik"
      },
      "execution_count": null,
      "outputs": []
    }
  ]
}